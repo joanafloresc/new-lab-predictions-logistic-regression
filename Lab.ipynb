{
 "cells": [
  {
   "cell_type": "markdown",
   "id": "0938d4c9",
   "metadata": {},
   "source": [
    "1. Create a query or queries to extract the information you think may be relevant for building the prediction model. It should include some film features and some rental features. Use the data from 2005."
   ]
  },
  {
   "cell_type": "code",
   "execution_count": 1,
   "id": "fd597e8e",
   "metadata": {},
   "outputs": [],
   "source": [
    "#libraries\n",
    "import pymysql\n",
    "from sqlalchemy import create_engine\n",
    "import pandas as pd\n",
    "import numpy as np\n",
    "import getpass"
   ]
  },
  {
   "cell_type": "code",
   "execution_count": 2,
   "id": "7692536d",
   "metadata": {},
   "outputs": [
    {
     "name": "stdout",
     "output_type": "stream",
     "text": [
      "········\n"
     ]
    }
   ],
   "source": [
    "password = getpass.getpass()"
   ]
  },
  {
   "cell_type": "code",
   "execution_count": 3,
   "id": "4c4f2ea9",
   "metadata": {},
   "outputs": [
    {
     "data": {
      "text/html": [
       "<div>\n",
       "<style scoped>\n",
       "    .dataframe tbody tr th:only-of-type {\n",
       "        vertical-align: middle;\n",
       "    }\n",
       "\n",
       "    .dataframe tbody tr th {\n",
       "        vertical-align: top;\n",
       "    }\n",
       "\n",
       "    .dataframe thead th {\n",
       "        text-align: right;\n",
       "    }\n",
       "</style>\n",
       "<table border=\"1\" class=\"dataframe\">\n",
       "  <thead>\n",
       "    <tr style=\"text-align: right;\">\n",
       "      <th></th>\n",
       "      <th>film_id</th>\n",
       "      <th>inventory_id</th>\n",
       "      <th>rental_duration</th>\n",
       "      <th>rental_rate</th>\n",
       "      <th>rating</th>\n",
       "    </tr>\n",
       "  </thead>\n",
       "  <tbody>\n",
       "    <tr>\n",
       "      <th>0</th>\n",
       "      <td>1</td>\n",
       "      <td>1</td>\n",
       "      <td>6</td>\n",
       "      <td>0.99</td>\n",
       "      <td>PG</td>\n",
       "    </tr>\n",
       "    <tr>\n",
       "      <th>1</th>\n",
       "      <td>1</td>\n",
       "      <td>1</td>\n",
       "      <td>6</td>\n",
       "      <td>0.99</td>\n",
       "      <td>PG</td>\n",
       "    </tr>\n",
       "    <tr>\n",
       "      <th>2</th>\n",
       "      <td>1</td>\n",
       "      <td>1</td>\n",
       "      <td>6</td>\n",
       "      <td>0.99</td>\n",
       "      <td>PG</td>\n",
       "    </tr>\n",
       "    <tr>\n",
       "      <th>3</th>\n",
       "      <td>1</td>\n",
       "      <td>2</td>\n",
       "      <td>6</td>\n",
       "      <td>0.99</td>\n",
       "      <td>PG</td>\n",
       "    </tr>\n",
       "    <tr>\n",
       "      <th>4</th>\n",
       "      <td>1</td>\n",
       "      <td>2</td>\n",
       "      <td>6</td>\n",
       "      <td>0.99</td>\n",
       "      <td>PG</td>\n",
       "    </tr>\n",
       "  </tbody>\n",
       "</table>\n",
       "</div>"
      ],
      "text/plain": [
       "   film_id  inventory_id  rental_duration  rental_rate rating\n",
       "0        1             1                6         0.99     PG\n",
       "1        1             1                6         0.99     PG\n",
       "2        1             1                6         0.99     PG\n",
       "3        1             2                6         0.99     PG\n",
       "4        1             2                6         0.99     PG"
      ]
     },
     "execution_count": 3,
     "metadata": {},
     "output_type": "execute_result"
    }
   ],
   "source": [
    "connection_string = 'mysql+pymysql://root:' + password + '@localhost/sakila'\n",
    "\n",
    "engine = create_engine(connection_string)\n",
    "query = '''SELECT f.film_id, r.inventory_id, f.rental_duration, f.rental_rate, f.rating\n",
    "FROM film f\n",
    "LEFT JOIN inventory i\n",
    "ON i.film_id = f.film_id\n",
    "LEFT JOIN rental r \n",
    "ON i.inventory_id = r.inventory_id\n",
    "WHERE YEAR(rental_date) = 2005\n",
    ";'''\n",
    "\n",
    "data = pd.read_sql_query(query, engine)\n",
    "data.head()"
   ]
  },
  {
   "cell_type": "markdown",
   "id": "5c3f36ba",
   "metadata": {},
   "source": [
    "though on using category_id and language_id\n",
    "    language_id: only 1\n",
    "    category_id: too many and no way to aggregate them"
   ]
  },
  {
   "cell_type": "markdown",
   "id": "8340c560",
   "metadata": {},
   "source": [
    "2. Create a query to get the total amount of rentals in June for each film.\n",
    "Do the same with July."
   ]
  },
  {
   "cell_type": "code",
   "execution_count": 4,
   "id": "f854a372",
   "metadata": {},
   "outputs": [],
   "source": [
    "query = '''SELECT fi.film_id, COALESCE(le.rental_jun,0) as rental_jun, COALESCE(ri.rental_jul,0) as rental_jul\n",
    "FROM film fi\n",
    "LEFT JOIN \n",
    "\n",
    "(\n",
    "SELECT f.film_id, count(r.rental_id) as rental_jun\n",
    "FROM film f\n",
    "LEFT JOIN inventory i\n",
    "ON f.film_id = i.film_id\n",
    "LEFT JOIN rental r\n",
    "ON i.inventory_id = r.inventory_id\n",
    "WHERE MONTH(r.rental_date) =6 \n",
    "GROUP BY f.film_id) le\n",
    "\n",
    "ON fi.film_id = le.film_id\n",
    "\n",
    "LEFT JOIN \n",
    "\n",
    "(\n",
    "SELECT f.film_id, count(r.rental_id) as rental_jul\n",
    "FROM film f\n",
    "LEFT JOIN inventory i\n",
    "ON f.film_id = i.film_id\n",
    "LEFT JOIN rental r\n",
    "ON i.inventory_id = r.inventory_id\n",
    "WHERE MONTH(r.rental_date) =7 \n",
    "GROUP BY f.film_id\n",
    "ORDER BY f.film_id) ri\n",
    "\n",
    "ON fi.film_id = ri.film_id;\n",
    "'''\n",
    "\n",
    "data_rental = pd.read_sql_query(query, engine)"
   ]
  },
  {
   "cell_type": "markdown",
   "id": "7b6baa52",
   "metadata": {},
   "source": [
    "3. Create a new column containing (Yes/No) for each film whether or not the number of monthly rentals in July was bigger than in June. Your objective will be to predict this new column."
   ]
  },
  {
   "cell_type": "code",
   "execution_count": 5,
   "id": "7d1ac550",
   "metadata": {},
   "outputs": [],
   "source": [
    "data_agg = data.groupby('film_id').agg({'inventory_id':'count',\n",
    "                                       'rental_duration':'max',\n",
    "                                       'rental_rate':'max',\n",
    "                                       'rating':'max'}).reset_index()"
   ]
  },
  {
   "cell_type": "code",
   "execution_count": 6,
   "id": "d7d7f2fa",
   "metadata": {},
   "outputs": [],
   "source": [
    "list_film = list(data_rental[data_rental.rental_jul > data_rental.rental_jun]['film_id'])\n",
    "\n",
    "data_agg['yesno'] = data_agg['film_id'].apply(lambda x: 'Yes' if x in list_film else 'No')"
   ]
  },
  {
   "cell_type": "markdown",
   "id": "37793bb1",
   "metadata": {},
   "source": [
    "4. Read the data into a Pandas dataframe."
   ]
  },
  {
   "cell_type": "code",
   "execution_count": 7,
   "id": "9b50abe4",
   "metadata": {},
   "outputs": [
    {
     "data": {
      "text/html": [
       "<div>\n",
       "<style scoped>\n",
       "    .dataframe tbody tr th:only-of-type {\n",
       "        vertical-align: middle;\n",
       "    }\n",
       "\n",
       "    .dataframe tbody tr th {\n",
       "        vertical-align: top;\n",
       "    }\n",
       "\n",
       "    .dataframe thead th {\n",
       "        text-align: right;\n",
       "    }\n",
       "</style>\n",
       "<table border=\"1\" class=\"dataframe\">\n",
       "  <thead>\n",
       "    <tr style=\"text-align: right;\">\n",
       "      <th></th>\n",
       "      <th>film_id</th>\n",
       "      <th>inventory_id</th>\n",
       "      <th>rental_duration</th>\n",
       "      <th>rental_rate</th>\n",
       "      <th>rating</th>\n",
       "      <th>yesno</th>\n",
       "    </tr>\n",
       "  </thead>\n",
       "  <tbody>\n",
       "    <tr>\n",
       "      <th>0</th>\n",
       "      <td>1</td>\n",
       "      <td>23</td>\n",
       "      <td>6</td>\n",
       "      <td>0.99</td>\n",
       "      <td>PG</td>\n",
       "      <td>Yes</td>\n",
       "    </tr>\n",
       "    <tr>\n",
       "      <th>1</th>\n",
       "      <td>2</td>\n",
       "      <td>6</td>\n",
       "      <td>3</td>\n",
       "      <td>4.99</td>\n",
       "      <td>G</td>\n",
       "      <td>Yes</td>\n",
       "    </tr>\n",
       "    <tr>\n",
       "      <th>2</th>\n",
       "      <td>3</td>\n",
       "      <td>12</td>\n",
       "      <td>7</td>\n",
       "      <td>2.99</td>\n",
       "      <td>NC-17</td>\n",
       "      <td>Yes</td>\n",
       "    </tr>\n",
       "    <tr>\n",
       "      <th>3</th>\n",
       "      <td>4</td>\n",
       "      <td>22</td>\n",
       "      <td>5</td>\n",
       "      <td>2.99</td>\n",
       "      <td>G</td>\n",
       "      <td>Yes</td>\n",
       "    </tr>\n",
       "    <tr>\n",
       "      <th>4</th>\n",
       "      <td>5</td>\n",
       "      <td>11</td>\n",
       "      <td>6</td>\n",
       "      <td>2.99</td>\n",
       "      <td>G</td>\n",
       "      <td>Yes</td>\n",
       "    </tr>\n",
       "    <tr>\n",
       "      <th>...</th>\n",
       "      <td>...</td>\n",
       "      <td>...</td>\n",
       "      <td>...</td>\n",
       "      <td>...</td>\n",
       "      <td>...</td>\n",
       "      <td>...</td>\n",
       "    </tr>\n",
       "    <tr>\n",
       "      <th>953</th>\n",
       "      <td>996</td>\n",
       "      <td>7</td>\n",
       "      <td>6</td>\n",
       "      <td>0.99</td>\n",
       "      <td>G</td>\n",
       "      <td>Yes</td>\n",
       "    </tr>\n",
       "    <tr>\n",
       "      <th>954</th>\n",
       "      <td>997</td>\n",
       "      <td>6</td>\n",
       "      <td>4</td>\n",
       "      <td>0.99</td>\n",
       "      <td>NC-17</td>\n",
       "      <td>Yes</td>\n",
       "    </tr>\n",
       "    <tr>\n",
       "      <th>955</th>\n",
       "      <td>998</td>\n",
       "      <td>8</td>\n",
       "      <td>6</td>\n",
       "      <td>0.99</td>\n",
       "      <td>NC-17</td>\n",
       "      <td>Yes</td>\n",
       "    </tr>\n",
       "    <tr>\n",
       "      <th>956</th>\n",
       "      <td>999</td>\n",
       "      <td>17</td>\n",
       "      <td>5</td>\n",
       "      <td>2.99</td>\n",
       "      <td>R</td>\n",
       "      <td>Yes</td>\n",
       "    </tr>\n",
       "    <tr>\n",
       "      <th>957</th>\n",
       "      <td>1000</td>\n",
       "      <td>31</td>\n",
       "      <td>3</td>\n",
       "      <td>4.99</td>\n",
       "      <td>NC-17</td>\n",
       "      <td>Yes</td>\n",
       "    </tr>\n",
       "  </tbody>\n",
       "</table>\n",
       "<p>958 rows × 6 columns</p>\n",
       "</div>"
      ],
      "text/plain": [
       "     film_id  inventory_id  rental_duration  rental_rate rating yesno\n",
       "0          1            23                6         0.99     PG   Yes\n",
       "1          2             6                3         4.99      G   Yes\n",
       "2          3            12                7         2.99  NC-17   Yes\n",
       "3          4            22                5         2.99      G   Yes\n",
       "4          5            11                6         2.99      G   Yes\n",
       "..       ...           ...              ...          ...    ...   ...\n",
       "953      996             7                6         0.99      G   Yes\n",
       "954      997             6                4         0.99  NC-17   Yes\n",
       "955      998             8                6         0.99  NC-17   Yes\n",
       "956      999            17                5         2.99      R   Yes\n",
       "957     1000            31                3         4.99  NC-17   Yes\n",
       "\n",
       "[958 rows x 6 columns]"
      ]
     },
     "execution_count": 7,
     "metadata": {},
     "output_type": "execute_result"
    }
   ],
   "source": [
    "data_agg"
   ]
  },
  {
   "cell_type": "markdown",
   "id": "b4a36c44",
   "metadata": {},
   "source": [
    "5. Analyze extracted features and transform them. You may need to encode some categorical variables or scale numerical variables."
   ]
  },
  {
   "cell_type": "code",
   "execution_count": 8,
   "id": "51ff14f0",
   "metadata": {},
   "outputs": [
    {
     "data": {
      "text/plain": [
       "film_id              int64\n",
       "inventory_id         int64\n",
       "rental_duration      int64\n",
       "rental_rate        float64\n",
       "rating              object\n",
       "yesno               object\n",
       "dtype: object"
      ]
     },
     "execution_count": 8,
     "metadata": {},
     "output_type": "execute_result"
    }
   ],
   "source": [
    "data_agg.dtypes"
   ]
  },
  {
   "cell_type": "code",
   "execution_count": 9,
   "id": "63cb11a6",
   "metadata": {},
   "outputs": [],
   "source": [
    "x = data_agg[['inventory_id','rental_duration','rental_rate','rating']]\n",
    "y = data_agg['yesno']"
   ]
  },
  {
   "cell_type": "code",
   "execution_count": 10,
   "id": "9556e964",
   "metadata": {},
   "outputs": [
    {
     "data": {
      "image/png": "[encoded data removed]",
      "text/plain": [
       "<Figure size 640x480 with 1 Axes>"
      ]
     },
     "metadata": {},
     "output_type": "display_data"
    },
    {
     "data": {
      "image/png": "[encoded data removed]",
      "text/plain": [
       "<Figure size 640x480 with 1 Axes>"
      ]
     },
     "metadata": {},
     "output_type": "display_data"
    },
    {
     "data": {
      "image/png": "[encoded data removed]",
      "text/plain": [
       "<Figure size 640x480 with 1 Axes>"
      ]
     },
     "metadata": {},
     "output_type": "display_data"
    }
   ],
   "source": [
    "import matplotlib.pyplot as plt\n",
    "import seaborn as sns\n",
    "\n",
    "def plot_hist(df):\n",
    "    list_of_ncolumns = list(df.select_dtypes(np.number))\n",
    "    #list with numeric columns names\n",
    "    for col in list_of_ncolumns:\n",
    "        sns.histplot(df[col])\n",
    "        plt.show()\n",
    "        \n",
    "plot_hist(x)"
   ]
  },
  {
   "cell_type": "markdown",
   "id": "c983c63a",
   "metadata": {},
   "source": [
    "Distribution kinda looks normal, so only MinMaxScaler will be applied"
   ]
  },
  {
   "cell_type": "code",
   "execution_count": 11,
   "id": "4575289e",
   "metadata": {},
   "outputs": [
    {
     "data": {
      "text/plain": [
       "PG-13    213\n",
       "NC-17    202\n",
       "R        189\n",
       "PG       183\n",
       "G        171\n",
       "Name: rating, dtype: int64"
      ]
     },
     "execution_count": 11,
     "metadata": {},
     "output_type": "execute_result"
    }
   ],
   "source": [
    "data_agg['rating'].value_counts()"
   ]
  },
  {
   "cell_type": "markdown",
   "id": "533cf878",
   "metadata": {},
   "source": [
    "5 categories, similar frequencies, no change will be made"
   ]
  },
  {
   "cell_type": "markdown",
   "id": "d88cea6b",
   "metadata": {},
   "source": [
    "## Split x-y"
   ]
  },
  {
   "cell_type": "code",
   "execution_count": 12,
   "id": "71f27a5f",
   "metadata": {},
   "outputs": [],
   "source": [
    "from sklearn.model_selection import train_test_split\n",
    "\n",
    "#split x_num, small dataset, I am diving 0.7:0,3\n",
    "x_tr, x_te, y_tr, y_te = train_test_split(x, y, test_size=0.3, random_state=42)"
   ]
  },
  {
   "cell_type": "markdown",
   "id": "ed487d10",
   "metadata": {},
   "source": [
    "## Split numerical-categorical"
   ]
  },
  {
   "cell_type": "code",
   "execution_count": 13,
   "id": "dd2b8819",
   "metadata": {},
   "outputs": [],
   "source": [
    "x_tr_n = x_tr.select_dtypes(np.number)\n",
    "x_tr_c = x_tr.select_dtypes('object')\n",
    "x_te_n = x_te.select_dtypes(np.number)\n",
    "x_te_c = x_te.select_dtypes('object')"
   ]
  },
  {
   "cell_type": "markdown",
   "id": "4a6fafa9",
   "metadata": {},
   "source": [
    "## Transforming"
   ]
  },
  {
   "cell_type": "code",
   "execution_count": 14,
   "id": "d794330e",
   "metadata": {},
   "outputs": [],
   "source": [
    "# Scaling numerical data\n",
    "from sklearn.preprocessing import MinMaxScaler\n",
    "\n",
    "transformer = MinMaxScaler().fit(x_tr_n)\n",
    "\n",
    "#x_tr_norm = transformer.transform(x_tr_n)\n",
    "#x_te_norm = transformer.transform(X_te_n)\n",
    "\n",
    "x_tr_nnorm = pd.DataFrame(transformer.transform(x_tr_n), columns = x_tr_n.columns)\n",
    "x_te_nnorm = pd.DataFrame(transformer.transform(x_te_n), columns = x_te_n.columns)"
   ]
  },
  {
   "cell_type": "code",
   "execution_count": 15,
   "id": "ea0d1167",
   "metadata": {},
   "outputs": [],
   "source": [
    "# Transforming categorical data\n",
    "from sklearn.preprocessing import OneHotEncoder\n",
    "\n",
    "encoder = OneHotEncoder(drop='first').fit(x_tr_c)\n",
    "\n",
    "x_tr_c = encoder.transform(x_tr_c).toarray()\n",
    "x_te_c = encoder.transform(x_te_c).toarray()\n",
    "\n",
    "x_tr_c = pd.DataFrame(x_tr_c, columns = encoder.get_feature_names_out())\n",
    "x_te_c = pd.DataFrame(x_te_c, columns = encoder.get_feature_names_out())"
   ]
  },
  {
   "cell_type": "markdown",
   "id": "25ad3972",
   "metadata": {},
   "source": [
    "##Joining numerical-categorical"
   ]
  },
  {
   "cell_type": "code",
   "execution_count": 16,
   "id": "920adf45",
   "metadata": {},
   "outputs": [],
   "source": [
    "x_tr_f = np.concatenate([x_tr_nnorm, x_tr_c], axis=1)\n",
    "x_te_f = np.concatenate([x_te_nnorm, x_te_c], axis=1)"
   ]
  },
  {
   "cell_type": "markdown",
   "id": "1abc5c2d",
   "metadata": {},
   "source": [
    "6. Create a logistic regression model to predict this new column from the cleaned data."
   ]
  },
  {
   "cell_type": "code",
   "execution_count": 19,
   "id": "8bb05cbb",
   "metadata": {},
   "outputs": [
    {
     "data": {
      "text/plain": [
       "0.9965277777777778"
      ]
     },
     "execution_count": 19,
     "metadata": {},
     "output_type": "execute_result"
    }
   ],
   "source": [
    "from sklearn.linear_model import LogisticRegression\n",
    "\n",
    "clas = LogisticRegression(random_state=0, solver='lbfgs',\n",
    "                          max_iter=1000, multi_class='multinomial')\n",
    "\n",
    "clas = clas.fit(x_tr_f, y_tr)\n",
    "\n",
    "\n",
    "y_te_pr = clas.predict(x_te_f)\n",
    "clas.score(x_te_f, y_te)"
   ]
  },
  {
   "cell_type": "markdown",
   "id": "c6297e83",
   "metadata": {},
   "source": [
    "7. Evaluate the results."
   ]
  },
  {
   "cell_type": "code",
   "execution_count": 20,
   "id": "4e1aa8ec",
   "metadata": {},
   "outputs": [
    {
     "data": {
      "text/plain": [
       "<sklearn.metrics._plot.confusion_matrix.ConfusionMatrixDisplay at 0x1d515be82b0>"
      ]
     },
     "execution_count": 20,
     "metadata": {},
     "output_type": "execute_result"
    },
    {
     "data": {
      "image/png": "[encoded data removed]",
      "text/plain": [
       "<Figure size 640x480 with 2 Axes>"
      ]
     },
     "metadata": {},
     "output_type": "display_data"
    }
   ],
   "source": [
    "from sklearn.metrics import confusion_matrix\n",
    "from sklearn.metrics import ConfusionMatrixDisplay\n",
    "\n",
    "conf_mat = confusion_matrix(y_te, y_te_pr)\n",
    "ConfusionMatrixDisplay(conf_mat, display_labels=clas.classes_).plot()"
   ]
  },
  {
   "cell_type": "code",
   "execution_count": 28,
   "id": "91187850",
   "metadata": {},
   "outputs": [
    {
     "name": "stdout",
     "output_type": "stream",
     "text": [
      "coher_kappa score is 0.0\n",
      "              precision    recall  f1-score   support\n",
      "\n",
      "          No       0.00      0.00      0.00         1\n",
      "         Yes       1.00      1.00      1.00       287\n",
      "\n",
      "    accuracy                           1.00       288\n",
      "   macro avg       0.50      0.50      0.50       288\n",
      "weighted avg       0.99      1.00      0.99       288\n",
      "\n"
     ]
    }
   ],
   "source": [
    "from sklearn.metrics import cohen_kappa_score\n",
    "from sklearn.metrics import classification_report\n",
    "\n",
    "print(\"coher_kappa score is\", cohen_kappa_score(y_te, y_te_pr))\n",
    "print(classification_report(y_te, y_te_pr, zero_division = 0))"
   ]
  },
  {
   "cell_type": "markdown",
   "id": "a82e04e8",
   "metadata": {},
   "source": [
    "As data is overly imbalanced, model could not predict no, so cohen_kappa score is 0. Not a good model."
   ]
  }
 ],
 "metadata": {
  "kernelspec": {
   "display_name": "Python 3 (ipykernel)",
   "language": "python",
   "name": "python3"
  },
  "language_info": {
   "codemirror_mode": {
    "name": "ipython",
    "version": 3
   },
   "file_extension": ".py",
   "mimetype": "text/x-python",
   "name": "python",
   "nbconvert_exporter": "python",
   "pygments_lexer": "ipython3",
   "version": "3.9.13"
  }
 },
 "nbformat": 4,
 "nbformat_minor": 5
}
